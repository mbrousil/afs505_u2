{
 "cells": [
  {
   "cell_type": "markdown",
   "metadata": {},
   "source": [
    "# Lesson 9 Practice: Supervised Machine Learning\n",
    "Use this notebook to follow along with the lesson in the corresponding lesson notebook: [L09-Supervised_Machine_Learning-Lesson.ipynb](./L09-Supervised_Machine_Learning-Lesson.ipynb).  \n",
    " "
   ]
  },
  {
   "cell_type": "markdown",
   "metadata": {},
   "source": [
    "## Instructions\n",
    "Follow along with the teaching material in the lesson. Throughout the tutorial sections labeled as \"Tasks\" are interspersed and indicated with the icon: ![Task](http://icons.iconarchive.com/icons/sbstnblnd/plateau/16/Apps-gnome-info-icon.png). You should follow the instructions provided in these sections by performing them in the practice notebook.  When the tutorial is completed you can turn in the final practice notebook. For each task, use the cell below it to write and test your code.  You may add additional cells for any task as needed or desired.  "
   ]
  },
  {
   "cell_type": "markdown",
   "metadata": {},
   "source": [
    "## Task 1a: Setup\n",
    "\n",
    "Import the following package sets:\n",
    "+ packages for data management\n",
    "+ pacakges for visualization\n",
    "+ packages for machine learning\n",
    "\n",
    "Remember to activate the `%matplotlib inline` magic."
   ]
  },
  {
   "cell_type": "code",
   "execution_count": 1,
   "metadata": {},
   "outputs": [],
   "source": [
    "%matplotlib inline\n",
    "\n",
    "# Data Management\n",
    "import numpy as np\n",
    "import pandas as pd\n",
    "\n",
    "# Visualization\n",
    "import seaborn as sns\n",
    "import matplotlib.pyplot as plt\n",
    "\n",
    "# Machine learning\n",
    "from sklearn import model_selection\n",
    "from sklearn import preprocessing\n",
    "from sklearn.metrics import accuracy_score\n",
    "from sklearn.metrics import confusion_matrix\n",
    "from sklearn.metrics import classification_report\n",
    "from sklearn.linear_model import LogisticRegression\n",
    "from sklearn.svm import SVC, LinearSVC\n",
    "from sklearn.ensemble import RandomForestClassifier\n",
    "from sklearn.neighbors import KNeighborsClassifier\n",
    "from sklearn.naive_bayes import GaussianNB\n",
    "from sklearn.linear_model import Perceptron\n",
    "from sklearn.linear_model import SGDClassifier\n",
    "from sklearn.tree import DecisionTreeClassifier\n",
    "from sklearn.discriminant_analysis import LinearDiscriminantAnalysis"
   ]
  },
  {
   "cell_type": "markdown",
   "metadata": {},
   "source": [
    "## Task 2a: Data Exploration\n",
    "\n",
    "After reviewing the data in sections 2.1, 2.2, 2.3 and 2.4 do you see any problems with this iris dataset? If so, please describe them in the practice notebook.  If not, simply indicate that there are no issues."
   ]
  },
  {
   "cell_type": "raw",
   "metadata": {},
   "source": [
    "There's on duplicated row. Since there's not an ID column it's hard to be sure whether this is due to sampling multiple flowers/plants with the same dimensions or an actual duplicated row (i.e., in error). The histograms show variables with differing distributions, but this is not necessarily a problem. Outliers could be problematic (and we have them), depending on the analysis we're using. Unfortunately, though not unexpectedly, it seems we have multicollinearity with several variables since the measurements being used are for the same or related parts of the plant."
   ]
  },
  {
   "cell_type": "markdown",
   "metadata": {},
   "source": [
    "## Task 2b:  Make Assumptions\n",
    "\n",
    "After reviewing the data in sections 2.1, 2.2, 2.3 and 2.4 are there any columns that would make poor predictors of species? \n",
    "\n",
    "**Hint**: columns that are poor predictors are:\n",
    "+ those with too many missing values\n",
    "+ those with no difference in variation when grouped by the outcome class\n",
    "+ variables with high levels of collinearity"
   ]
  },
  {
   "cell_type": "raw",
   "metadata": {},
   "source": [
    "Columns with little variation between species: Sepal_width\n",
    "Columns with collinearity: petal_length + petal_width, petal_length + sepal_length\n",
    "\n",
    "Sepal_width doesn't display much variation between species, so it likely wouldn't be that helpful. It might help to remove something like petal_length to free up petal_width and sepal_length from multicollinearity issues."
   ]
  },
  {
   "cell_type": "markdown",
   "metadata": {},
   "source": [
    "## Task 3a: Practice with the random forest classifier\n",
    "\n",
    "Now that you have learned how to perform supervised machine learning using a variety of algorithms, lets practice using a new algorithm we haven't looked at yet: the Random Forest Classifier.  The random forest classifier builds multiple decision trees and merges them together.  Review the sklearn [online documentation for the RandomForestClassifier](https://scikit-learn.org/stable/modules/generated/sklearn.ensemble.RandomForestClassifier.html).  For this task:\n",
    "\n",
    "1. Perform a 10-fold cross-validation strategy to see how well the random forest classifier performs with the iris data\n",
    "2. Use a boxplot to show the distribution of accuracy\n",
    "3. Use the `fit` and `predict` functions to see how well it performs with the testing data.\n",
    "4. Plot the confusion matrix\n",
    "5. Print the classification report.\n"
   ]
  },
  {
   "cell_type": "code",
   "execution_count": 2,
   "metadata": {},
   "outputs": [],
   "source": [
    "iris = sns.load_dataset('iris')\n",
    "\n",
    "predictors = iris.loc[:,'sepal_length':'petal_width'].values\n",
    "\n",
    "# Show the contents of X by displaying the first 10 rows.\n",
    "predictors[0:10]\n",
    "\n",
    "predictors = preprocessing.robust_scale(predictors)\n",
    "\n",
    "response = iris['species'].values\n",
    "\n",
    "# Show the contents of X by displaying the first 10 elements.\n",
    "response[0:10]\n",
    "\n",
    "# Split-out validation dataset\n",
    "pred_test, pred_val, resp_test, resp_val = model_selection.train_test_split(predictors, response, test_size=0.2, random_state=10)\n",
    "\n",
    "# Prep k-fold strat\n",
    "kfold = model_selection.KFold(n_splits=10, random_state=10)"
   ]
  },
  {
   "cell_type": "code",
   "execution_count": 3,
   "metadata": {},
   "outputs": [],
   "source": [
    "# Create the RandomForestClassifier object with defaults.\n",
    "rand_forest = RandomForestClassifier()"
   ]
  },
  {
   "cell_type": "code",
   "execution_count": 4,
   "metadata": {},
   "outputs": [
    {
     "data": {
      "text/plain": [
       "{'LogisticRegression': array([0., 0., 0., 0., 0., 0., 0., 0., 0., 0.]),\n",
       " 'LinearDiscriminantAnalysis': array([0., 0., 0., 0., 0., 0., 0., 0., 0., 0.]),\n",
       " 'KNeighborsClassifier': array([0., 0., 0., 0., 0., 0., 0., 0., 0., 0.]),\n",
       " 'DecisionTreeClassifier': array([0., 0., 0., 0., 0., 0., 0., 0., 0., 0.]),\n",
       " 'GaussianNB': array([0., 0., 0., 0., 0., 0., 0., 0., 0., 0.]),\n",
       " 'SVC': array([0., 0., 0., 0., 0., 0., 0., 0., 0., 0.]),\n",
       " 'RandomForestClassifier': array([0., 0., 0., 0., 0., 0., 0., 0., 0., 0.])}"
      ]
     },
     "execution_count": 4,
     "metadata": {},
     "output_type": "execute_result"
    }
   ],
   "source": [
    "results = {\n",
    "    'LogisticRegression' : np.zeros(10),\n",
    "    'LinearDiscriminantAnalysis' : np.zeros(10),\n",
    "    'KNeighborsClassifier' : np.zeros(10),\n",
    "    'DecisionTreeClassifier' : np.zeros(10),\n",
    "    'GaussianNB' : np.zeros(10),\n",
    "    'SVC' : np.zeros(10),\n",
    "    'RandomForestClassifier' : np.zeros(10)\n",
    "}\n",
    "results"
   ]
  },
  {
   "cell_type": "code",
   "execution_count": 11,
   "metadata": {
    "scrolled": true
   },
   "outputs": [
    {
     "name": "stderr",
     "output_type": "stream",
     "text": [
      "C:\\Users\\matthew.brousil\\AppData\\Local\\Continuum\\anaconda3\\lib\\site-packages\\sklearn\\ensemble\\forest.py:245: FutureWarning: The default value of n_estimators will change from 10 in version 0.20 to 100 in 0.22.\n",
      "  \"10 in version 0.20 to 100 in 0.22.\", FutureWarning)\n",
      "C:\\Users\\matthew.brousil\\AppData\\Local\\Continuum\\anaconda3\\lib\\site-packages\\sklearn\\ensemble\\forest.py:245: FutureWarning: The default value of n_estimators will change from 10 in version 0.20 to 100 in 0.22.\n",
      "  \"10 in version 0.20 to 100 in 0.22.\", FutureWarning)\n",
      "C:\\Users\\matthew.brousil\\AppData\\Local\\Continuum\\anaconda3\\lib\\site-packages\\sklearn\\ensemble\\forest.py:245: FutureWarning: The default value of n_estimators will change from 10 in version 0.20 to 100 in 0.22.\n",
      "  \"10 in version 0.20 to 100 in 0.22.\", FutureWarning)\n",
      "C:\\Users\\matthew.brousil\\AppData\\Local\\Continuum\\anaconda3\\lib\\site-packages\\sklearn\\ensemble\\forest.py:245: FutureWarning: The default value of n_estimators will change from 10 in version 0.20 to 100 in 0.22.\n",
      "  \"10 in version 0.20 to 100 in 0.22.\", FutureWarning)\n",
      "C:\\Users\\matthew.brousil\\AppData\\Local\\Continuum\\anaconda3\\lib\\site-packages\\sklearn\\ensemble\\forest.py:245: FutureWarning: The default value of n_estimators will change from 10 in version 0.20 to 100 in 0.22.\n",
      "  \"10 in version 0.20 to 100 in 0.22.\", FutureWarning)\n",
      "C:\\Users\\matthew.brousil\\AppData\\Local\\Continuum\\anaconda3\\lib\\site-packages\\sklearn\\ensemble\\forest.py:245: FutureWarning: The default value of n_estimators will change from 10 in version 0.20 to 100 in 0.22.\n",
      "  \"10 in version 0.20 to 100 in 0.22.\", FutureWarning)\n",
      "C:\\Users\\matthew.brousil\\AppData\\Local\\Continuum\\anaconda3\\lib\\site-packages\\sklearn\\ensemble\\forest.py:245: FutureWarning: The default value of n_estimators will change from 10 in version 0.20 to 100 in 0.22.\n",
      "  \"10 in version 0.20 to 100 in 0.22.\", FutureWarning)\n",
      "C:\\Users\\matthew.brousil\\AppData\\Local\\Continuum\\anaconda3\\lib\\site-packages\\sklearn\\ensemble\\forest.py:245: FutureWarning: The default value of n_estimators will change from 10 in version 0.20 to 100 in 0.22.\n",
      "  \"10 in version 0.20 to 100 in 0.22.\", FutureWarning)\n",
      "C:\\Users\\matthew.brousil\\AppData\\Local\\Continuum\\anaconda3\\lib\\site-packages\\sklearn\\ensemble\\forest.py:245: FutureWarning: The default value of n_estimators will change from 10 in version 0.20 to 100 in 0.22.\n",
      "  \"10 in version 0.20 to 100 in 0.22.\", FutureWarning)\n",
      "C:\\Users\\matthew.brousil\\AppData\\Local\\Continuum\\anaconda3\\lib\\site-packages\\sklearn\\ensemble\\forest.py:245: FutureWarning: The default value of n_estimators will change from 10 in version 0.20 to 100 in 0.22.\n",
      "  \"10 in version 0.20 to 100 in 0.22.\", FutureWarning)\n"
     ]
    }
   ],
   "source": [
    "# Execute the cross-validation strategies\n",
    "log_reg = LogisticRegression(solver='lbfgs', multi_class=\"auto\")\n",
    "lda = LinearDiscriminantAnalysis()\n",
    "kn = KNeighborsClassifier()\n",
    "cart = DecisionTreeClassifier()\n",
    "gnb = GaussianNB()\n",
    "svc = SVC(gamma='auto')\n",
    "\n",
    "results['SVC'] = model_selection.cross_val_score(svc, pred_test, resp_test, cv=kfold, \n",
    "                                                                  scoring=\"accuracy\", error_score=np.nan)\n",
    "\n",
    "results['GaussianNB'] = model_selection.cross_val_score(gnb, pred_test, resp_test, cv=kfold, \n",
    "                                                                  scoring=\"accuracy\", error_score=np.nan)\n",
    "\n",
    "results['DecisionTreeClassifier'] = model_selection.cross_val_score(cart, pred_test, resp_test, cv=kfold, \n",
    "                                                                  scoring=\"accuracy\", error_score=np.nan)\n",
    "\n",
    "results['KNeighborsClassifier'] = model_selection.cross_val_score(kn, pred_test, resp_test, cv=kfold, \n",
    "                                                                  scoring=\"accuracy\", error_score=np.nan)\n",
    "\n",
    "results['LinearDiscriminantAnalysis'] = model_selection.cross_val_score(lda, pred_test, resp_test, cv=kfold, \n",
    "                                                                        scoring=\"accuracy\", error_score=np.nan)\n",
    "\n",
    "results['LogisticRegression'] = model_selection.cross_val_score(log_reg, pred_test, resp_test, cv=kfold, \n",
    "                                                                scoring=\"accuracy\", error_score=np.nan)\n",
    "                                                                        \n",
    "results['RandomForestClassifier'] = model_selection.cross_val_score(rand_forest, pred_test, resp_test, cv=kfold, \n",
    "                                                                scoring=\"accuracy\", error_score=np.nan)"
   ]
  },
  {
   "cell_type": "code",
   "execution_count": 12,
   "metadata": {},
   "outputs": [
    {
     "data": {
      "text/plain": [
       "array([1.        , 0.83333333, 0.91666667, 0.91666667, 1.        ,\n",
       "       1.        , 1.        , 0.83333333, 0.91666667, 1.        ])"
      ]
     },
     "execution_count": 12,
     "metadata": {},
     "output_type": "execute_result"
    }
   ],
   "source": [
    "results[\"RandomForestClassifier\"]"
   ]
  },
  {
   "cell_type": "code",
   "execution_count": 13,
   "metadata": {},
   "outputs": [
    {
     "data": {
      "text/plain": [
       "<matplotlib.axes._subplots.AxesSubplot at 0x17c408c4688>"
      ]
     },
     "execution_count": 13,
     "metadata": {},
     "output_type": "execute_result"
    },
    {
     "data": {
      "image/png": "[encoded data removed]",
      "text/plain": [
       "<Figure size 432x288 with 1 Axes>"
      ]
     },
     "metadata": {
      "needs_background": "light"
     },
     "output_type": "display_data"
    }
   ],
   "source": [
    "# Plot the outputs\n",
    "pd.DataFrame(results).plot(kind = \"box\", rot = 45)"
   ]
  },
  {
   "cell_type": "code",
   "execution_count": 16,
   "metadata": {},
   "outputs": [
    {
     "data": {
      "text/plain": [
       "array(['versicolor', 'virginica', 'setosa', 'versicolor', 'setosa',\n",
       "       'versicolor', 'virginica', 'versicolor', 'setosa', 'versicolor',\n",
       "       'versicolor', 'virginica', 'versicolor', 'setosa', 'setosa',\n",
       "       'virginica', 'versicolor', 'setosa', 'setosa', 'setosa',\n",
       "       'virginica', 'virginica', 'virginica', 'setosa', 'versicolor',\n",
       "       'setosa', 'versicolor', 'versicolor', 'versicolor', 'virginica'],\n",
       "      dtype=object)"
      ]
     },
     "execution_count": 16,
     "metadata": {},
     "output_type": "execute_result"
    }
   ],
   "source": [
    "# Create a new model using all of the training data.\n",
    "rand_forest.fit(pred_test, resp_test)\n",
    "\n",
    "# Using the testing data, predict the iris species.\n",
    "predictions = rand_forest.predict(pred_val)\n",
    "\n",
    "# Let's see the predictions\n",
    "predictions"
   ]
  },
  {
   "cell_type": "code",
   "execution_count": 17,
   "metadata": {},
   "outputs": [
    {
     "data": {
      "text/plain": [
       "0.9666666666666667"
      ]
     },
     "execution_count": 17,
     "metadata": {},
     "output_type": "execute_result"
    }
   ],
   "source": [
    "accuracy_score(resp_val, predictions)"
   ]
  },
  {
   "cell_type": "code",
   "execution_count": 18,
   "metadata": {},
   "outputs": [
    {
     "name": "stdout",
     "output_type": "stream",
     "text": [
      "[[12  1  0]\n",
      " [ 0  7  0]\n",
      " [ 0  0 10]]\n"
     ]
    }
   ],
   "source": [
    "labels = ['versicolor', 'virginica', 'setosa']\n",
    "cm = confusion_matrix(resp_val, predictions, labels = labels)\n",
    "print(cm)"
   ]
  },
  {
   "cell_type": "code",
   "execution_count": 19,
   "metadata": {},
   "outputs": [
    {
     "data": {
      "image/png": "[encoded data removed]",
      "text/plain": [
       "<Figure size 432x288 with 2 Axes>"
      ]
     },
     "metadata": {
      "needs_background": "light"
     },
     "output_type": "display_data"
    }
   ],
   "source": [
    "sns.heatmap(cm, annot=True, xticklabels=labels, yticklabels=labels);"
   ]
  },
  {
   "cell_type": "code",
   "execution_count": 20,
   "metadata": {},
   "outputs": [
    {
     "name": "stdout",
     "output_type": "stream",
     "text": [
      "              precision    recall  f1-score   support\n",
      "\n",
      "      setosa       1.00      1.00      1.00        10\n",
      "  versicolor       1.00      0.92      0.96        13\n",
      "   virginica       0.88      1.00      0.93         7\n",
      "\n",
      "    accuracy                           0.97        30\n",
      "   macro avg       0.96      0.97      0.96        30\n",
      "weighted avg       0.97      0.97      0.97        30\n",
      "\n"
     ]
    }
   ],
   "source": [
    "class_rep = classification_report(resp_val, predictions)\n",
    "print(class_rep)"
   ]
  }
 ],
 "metadata": {
  "kernelspec": {
   "display_name": "Python 3",
   "language": "python",
   "name": "python3"
  },
  "language_info": {
   "codemirror_mode": {
    "name": "ipython",
    "version": 3
   },
   "file_extension": ".py",
   "mimetype": "text/x-python",
   "name": "python",
   "nbconvert_exporter": "python",
   "pygments_lexer": "ipython3",
   "version": "3.7.4"
  }
 },
 "nbformat": 4,
 "nbformat_minor": 4
}
