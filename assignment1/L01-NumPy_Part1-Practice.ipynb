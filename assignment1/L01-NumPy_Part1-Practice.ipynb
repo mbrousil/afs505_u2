{
 "cells": [
  {
   "cell_type": "markdown",
   "metadata": {},
   "source": [
    "# Lesson 1 Practice: NumPy Part 1\n",
    "Use this notebook to follow along with the lesson in the corresponding lesson notebook: [L01-Numpy_Part1-Lesson.ipynb](./L01-Numpy_Part1-Lesson.ipynb).  \n",
    "\n"
   ]
  },
  {
   "cell_type": "markdown",
   "metadata": {},
   "source": [
    "## Instructions\n",
    "Follow along with the teaching material in the lesson. Throughout the tutorial sections labeled as \"Tasks\" are interspersed and indicated with the icon: ![Task](http://icons.iconarchive.com/icons/sbstnblnd/plateau/16/Apps-gnome-info-icon.png). You should follow the instructions provided in these sections by performing them in the practice notebook.  When the tutorial is completed you can turn in the final practice notebook. For each task, use the cell below it to write and test your code.  You may add additional cells for any task as needed or desired.  "
   ]
  },
  {
   "cell_type": "markdown",
   "metadata": {},
   "source": [
    "## Task 1a: Setup\n",
    "\n",
    "In the practice notebook, import the following packages:\n",
    "+ `numpy` as `np`"
   ]
  },
  {
   "cell_type": "code",
   "execution_count": 1,
   "metadata": {},
   "outputs": [],
   "source": [
    "# Import numpy\n",
    "import numpy as np"
   ]
  },
  {
   "cell_type": "markdown",
   "metadata": {},
   "source": [
    "## Task 2a: Creating Arrays\n",
    "\n",
    "In the practice notebook, perform the following.  \n",
    "- Create a 1-dimensional numpy array and print it.\n",
    "- Create a 2-dimensional numpy array and print it.\n",
    "- Create a 3-dimensional numpy array and print it."
   ]
  },
  {
   "cell_type": "code",
   "execution_count": 9,
   "metadata": {
    "scrolled": true
   },
   "outputs": [
    {
     "name": "stdout",
     "output_type": "stream",
     "text": [
      "['one' 'two' 'three']\n",
      "[['one' 'two' 'three']\n",
      " ['a' 'b' 'c']]\n",
      "[[[ 1  2  3  4]\n",
      "  [ 5  6  7  8]]\n",
      "\n",
      " [[ 1  2  3  4]\n",
      "  [ 9 10 11 12]]]\n"
     ]
    }
   ],
   "source": [
    "one_d_array = np.array([\"one\", \"two\", \"three\"])\n",
    "two_d_array = np.array([[\"one\", \"two\", \"three\"], [\"a\", \"b\", \"c\"]])\n",
    "# Note to self: np doesn't seem to like when the sub lists aren't the same lengths\n",
    "three_d_array = np.array([[[\"one\", \"two\", \"three\"], [\"a\", \"b\", \"c\"]], [[\"uno\", \"dos\", \"tres\"], [\"catorce\", \"catorce\", \"catorce\"]]])\n",
    "\n",
    "print(one_d_array)\n",
    "print(two_d_array)\n",
    "print(my_3d_array)"
   ]
  },
  {
   "cell_type": "markdown",
   "metadata": {},
   "source": [
    "## Task 3a: Accessing Array Attributes\n",
    "\n",
    "In the practice notebook, perform the following.\n",
    "\n",
    "- Create a NumPy array.\n",
    "- Write code that prints these attributes (one per line): `ndim`, `shape`, `size`, `dtype`, `itemsize`, `data`, `nbytes`.\n",
    "- Add a comment line, before each line describing what value the attribute returns. \n"
   ]
  },
  {
   "cell_type": "code",
   "execution_count": 14,
   "metadata": {},
   "outputs": [
    {
     "name": "stdout",
     "output_type": "stream",
     "text": [
      "ndim 2\n",
      "shape (2, 4)\n",
      "size 8\n",
      "dtype <U4\n",
      "itemsize 16\n",
      "data <memory at 0x000002841A98EF28>\n",
      "nbytes 128\n"
     ]
    }
   ],
   "source": [
    "# Here's a super cool array\n",
    "cool_array = np.array([[\"this\", \"is\", \"a\", \"ray\"], [\"it\", \"is\", \"soup\", \"cool\"]])\n",
    "\n",
    "# Number of dimensions\n",
    "print(\"ndim\", cool_array.ndim)\n",
    "# Shape of the array / its dimensions\n",
    "print(\"shape\", cool_array.shape)\n",
    "# Number of elements in the array\n",
    "print(\"size\", cool_array.size)\n",
    "# Type of data in the array\n",
    "print(\"dtype\", cool_array.dtype)\n",
    "# Length of an array element in bytes\n",
    "print(\"itemsize\", cool_array.itemsize)\n",
    "# The object pointing to the array's data\n",
    "print(\"data\", cool_array.data)\n",
    "# Total bytes the array's elements take up\n",
    "print(\"nbytes\", cool_array.nbytes)"
   ]
  },
  {
   "cell_type": "markdown",
   "metadata": {},
   "source": [
    "## Task 4a: Initializing Arrays\n",
    "\n",
    "In the practice notebook, perform the following.\n",
    "\n",
    "+ Create an initialized array by using these functions:  `ones`, `zeros`, `empty`, `full`, `arange`, `linspace` and `random.random`. Be sure to follow each array creation with a call to `print()` to display your newly created arrays. \n",
    "+ Add a comment above each function call describing what is being done.  "
   ]
  },
  {
   "cell_type": "code",
   "execution_count": 19,
   "metadata": {},
   "outputs": [
    {
     "name": "stdout",
     "output_type": "stream",
     "text": [
      "[[1. 1. 1.]\n",
      " [1. 1. 1.]]\n",
      "[[0. 0. 0.]\n",
      " [0. 0. 0.]]\n",
      "[2.12199579e-313 6.36598737e-313 1.06099790e-312 1.48539705e-312\n",
      " 1.90979621e-312]\n",
      "[['test']]\n",
      "[ 0 10 20 30 40 50 60 70 80 90]\n",
      "[  0.          16.66666667  33.33333333  50.          66.66666667\n",
      "  83.33333333 100.        ]\n",
      "[0.49441128 0.23892289 0.16083416 0.99538444 0.01914808 0.14457233\n",
      " 0.17912772 0.84137897 0.51714643 0.95901591 0.13800283 0.5379449\n",
      " 0.75216772 0.521324   0.94063466]\n"
     ]
    }
   ],
   "source": [
    "# Create an array of ones with 2 rows and 3 cols\n",
    "one_array = np.ones((2, 3))\n",
    "print(one_array)\n",
    "\n",
    "# Create an array of zeroes with 2 rows and 3 cols\n",
    "zero_array = np.zeros((2, 3))\n",
    "print(zero_array)\n",
    "\n",
    "# Create an empty one-dimensional array\n",
    "empty_array = np.empty(5)\n",
    "print(empty_array)\n",
    "\n",
    "# Create a 1 x 1 array of text\n",
    "text_array = np.full((1, 1), \"test\")\n",
    "print(text_array)\n",
    "\n",
    "# Create an array of data from 0 to 100 by 10\n",
    "hundo_array = np.arange(0, 100, 10)\n",
    "print(hundo_array)\n",
    "\n",
    "# Create an array of evenly spaced numbers from 0 to 100\n",
    "space_array = np.linspace(0, 100, 7)\n",
    "print(space_array)\n",
    "\n",
    "# Create an array of random floats from 0 to 1.0\n",
    "rando_array = np.random.random((15, ))\n",
    "print(rando_array)"
   ]
  },
  {
   "cell_type": "markdown",
   "metadata": {},
   "source": [
    "## Task 5a:  Broadcasting Arrays\n",
    "\n",
    "In the practice notebook, perform the following.\n",
    "\n",
    "+ Create two arrays of differing sizes but compatible with broadcasting.\n",
    "+ Perform addition, multiplication and subtraction.\n",
    "+ Create two additional arrays of differing size that do not meet the rules for broadcasting and try a mathematical operation.  "
   ]
  },
  {
   "cell_type": "code",
   "execution_count": 42,
   "metadata": {},
   "outputs": [
    {
     "name": "stdout",
     "output_type": "stream",
     "text": [
      "[[0.9705928  0.80329711]\n",
      " [0.22946904 0.44469091]]\n",
      "[[[1. 1.]\n",
      "  [1. 1.]]\n",
      "\n",
      " [[1. 1.]\n",
      "  [1. 1.]]\n",
      "\n",
      " [[1. 1.]\n",
      "  [1. 1.]]\n",
      "\n",
      " [[1. 1.]\n",
      "  [1. 1.]]\n",
      "\n",
      " [[1. 1.]\n",
      "  [1. 1.]]]\n",
      "[[0.68553149 0.73201019]\n",
      " [0.6066331  0.3237968 ]]\n",
      "[[[1. 1. 1. 1.]\n",
      "  [1. 1. 1. 1.]]\n",
      "\n",
      " [[1. 1. 1. 1.]\n",
      "  [1. 1. 1. 1.]]\n",
      "\n",
      " [[1. 1. 1. 1.]\n",
      "  [1. 1. 1. 1.]]\n",
      "\n",
      " [[1. 1. 1. 1.]\n",
      "  [1. 1. 1. 1.]]\n",
      "\n",
      " [[1. 1. 1. 1.]\n",
      "  [1. 1. 1. 1.]]]\n"
     ]
    },
    {
     "ename": "ValueError",
     "evalue": "operands could not be broadcast together with shapes (2,2) (5,2,4) ",
     "output_type": "error",
     "traceback": [
      "\u001b[1;31m---------------------------------------------------------------------------\u001b[0m",
      "\u001b[1;31mValueError\u001b[0m                                Traceback (most recent call last)",
      "\u001b[1;32m<ipython-input-42-dc891faceeea>\u001b[0m in \u001b[0;36m<module>\u001b[1;34m\u001b[0m\n\u001b[0;32m     13\u001b[0m \u001b[0mprint\u001b[0m\u001b[1;33m(\u001b[0m\u001b[0mbad_array_2\u001b[0m\u001b[1;33m)\u001b[0m\u001b[1;33m\u001b[0m\u001b[1;33m\u001b[0m\u001b[0m\n\u001b[0;32m     14\u001b[0m \u001b[1;33m\u001b[0m\u001b[0m\n\u001b[1;32m---> 15\u001b[1;33m \u001b[0mbad_array_1\u001b[0m \u001b[1;33m+\u001b[0m \u001b[0mbad_array_2\u001b[0m\u001b[1;33m\u001b[0m\u001b[1;33m\u001b[0m\u001b[0m\n\u001b[0m\u001b[0;32m     16\u001b[0m \u001b[0mbad_array_1\u001b[0m \u001b[1;33m-\u001b[0m \u001b[0mbad_array_2\u001b[0m\u001b[1;33m\u001b[0m\u001b[1;33m\u001b[0m\u001b[0m\n\u001b[0;32m     17\u001b[0m \u001b[0mbad_array_1\u001b[0m \u001b[1;33m*\u001b[0m \u001b[0mbad_array_2\u001b[0m\u001b[1;33m\u001b[0m\u001b[1;33m\u001b[0m\u001b[0m\n",
      "\u001b[1;31mValueError\u001b[0m: operands could not be broadcast together with shapes (2,2) (5,2,4) "
     ]
    }
   ],
   "source": [
    "good_array_1 = np.random.random((2, 2))\n",
    "print(good_array_1)\n",
    "good_array_2 = np.ones((5, 2, 2))\n",
    "print(good_array_2)\n",
    "\n",
    "good_array_1 + good_array_2\n",
    "good_array_1 - good_array_2\n",
    "good_array_1 * good_array_2\n",
    "\n",
    "bad_array_1 = np.random.random((2, 2))\n",
    "print(bad_array_1)\n",
    "bad_array_2 = np.ones((5, 2, 4))\n",
    "print(bad_array_2)\n",
    "\n",
    "bad_array_1 + bad_array_2"
   ]
  },
  {
   "cell_type": "markdown",
   "metadata": {},
   "source": [
    "## Task 6a: Math/Stats Aggregate Functions\n",
    "\n",
    "In the practice notebook, perform the following.\n",
    "\n",
    "+ Create three to five arrays\n",
    "+ Experiment with each of the aggregation functions: `sum`, `minimum`, `maximum`, `cumsum`, `mean`, `np.corrcoef`, `np.std`, `np.var`. \n",
    "+ For each function call, add a comment line above it that describes what it does.  \n",
    "```\n"
   ]
  },
  {
   "cell_type": "code",
   "execution_count": 73,
   "metadata": {},
   "outputs": [
    {
     "name": "stdout",
     "output_type": "stream",
     "text": [
      "[1. 1. 1. 1. 1. 1. 1. 1.]\n",
      "[0.67129795 0.87818157 0.09015393 0.72084302]\n",
      "[[1 5 7]\n",
      " [3 6 1]]\n",
      "[1 5 1]\n",
      "[1. 2. 3. 4. 5. 6. 7. 8.]\n",
      "[ 1  6 13 16 22 23]\n",
      "3.8333333333333335\n",
      "[[ 1.         -0.21677749]\n",
      " [-0.21677749  1.        ]]\n",
      "0.29858998072235865\n",
      "0.0\n"
     ]
    }
   ],
   "source": [
    "array_1 = np.ones(8)\n",
    "print(array_1)\n",
    "array_2 = np.random.random(4)\n",
    "print(array_2)\n",
    "array_3 = np.array([[1, 5, 7], [3, 6, 1]])\n",
    "print(array_3)\n",
    "\n",
    "# Sum the full array\n",
    "np.sum(array_1)\n",
    "\n",
    "# Find minimums at each array index\n",
    "print(np.minimum(array_3[0], array_3[1]))\n",
    "\n",
    "# Find cumulative sum\n",
    "print(np.cumsum(array_1))\n",
    "print(np.cumsum(array_3))\n",
    "\n",
    "# Find mean of array\n",
    "print(np.mean(array_3))\n",
    "\n",
    "# Find pearson correlations between arrays\n",
    "print(np.corrcoef(array_3))\n",
    "\n",
    "# Find standard deviation\n",
    "print(np.std(array_2))\n",
    "\n",
    "# Find the variance of the array\n",
    "print(np.var(array_1))"
   ]
  },
  {
   "cell_type": "markdown",
   "metadata": {},
   "source": [
    "## Task 6b: Logical Aggregate Functions\n",
    "\n",
    "In the practice notebook, perform the following.\n",
    "\n",
    "+ Create two arrays containing boolean values.\n",
    "+ Experiment with each of the aggregation functions: `logical_and`, `logical_or`, `logical_not`. \n",
    "+ For each function call, add a comment line above it that describes what it does.  \n",
    "```"
   ]
  },
  {
   "cell_type": "code",
   "execution_count": 77,
   "metadata": {},
   "outputs": [
    {
     "name": "stdout",
     "output_type": "stream",
     "text": [
      "[False False  True]\n",
      "[False  True  True]\n",
      "[ True  True False]\n"
     ]
    }
   ],
   "source": [
    "is_it_true_1 = [False, False, True]\n",
    "is_it_true_2 = [False, True, True]\n",
    "\n",
    "# Check if both are true\n",
    "print(np.logical_and(is_it_true_1, is_it_true_2))\n",
    "# Check if one is true\n",
    "print(np.logical_or(is_it_true_1, is_it_true_2))\n",
    "# Compute inverse of logical array\n",
    "print(np.logical_not(is_it_true_1))"
   ]
  }
 ],
 "metadata": {
  "kernelspec": {
   "display_name": "Python 3",
   "language": "python",
   "name": "python3"
  },
  "language_info": {
   "codemirror_mode": {
    "name": "ipython",
    "version": 3
   },
   "file_extension": ".py",
   "mimetype": "text/x-python",
   "name": "python",
   "nbconvert_exporter": "python",
   "pygments_lexer": "ipython3",
   "version": "3.7.4"
  }
 },
 "nbformat": 4,
 "nbformat_minor": 4
}
