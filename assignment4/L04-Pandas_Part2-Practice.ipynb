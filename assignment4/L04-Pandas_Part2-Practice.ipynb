{
 "cells": [
  {
   "cell_type": "markdown",
   "metadata": {},
   "source": [
    "# Lesson 4 Practice: Pandas Part 2\n",
    "\n",
    "Use this notebook to follow along with the lesson in the corresponding lesson notebook: [L04-Pandas_Part2-Lesson.ipynb](./L04-Pandas_Part2-Lesson.ipynb).  \n"
   ]
  },
  {
   "cell_type": "markdown",
   "metadata": {},
   "source": [
    "## Instructions\n",
    "Follow along with the teaching material in the lesson. Throughout the tutorial sections labeled as \"Tasks\" are interspersed and indicated with the icon: ![Task](http://icons.iconarchive.com/icons/sbstnblnd/plateau/16/Apps-gnome-info-icon.png). You should follow the instructions provided in these sections by performing them in the practice notebook.  When the tutorial is completed you can turn in the final practice notebook. For each task, use the cell below it to write and test your code.  You may add additional cells for any task as needed or desired.  "
   ]
  },
  {
   "cell_type": "markdown",
   "metadata": {},
   "source": [
    "## Task 1a: Setup\n",
    "\n",
    "- import pandas\n",
    "- re-create the `df` data frame\n",
    "- re-create the `iris_df` data frame"
   ]
  },
  {
   "cell_type": "code",
   "execution_count": 1,
   "metadata": {},
   "outputs": [],
   "source": [
    "import pandas as pd\n",
    "import numpy as np\n",
    "\n",
    "df = pd.DataFrame(\n",
    "    {'alpha': [0, 1, 2, 3, 4],\n",
    "     'beta': ['a', 'b', 'c', 'd', 'e']})\n",
    "\n",
    "iris_df = pd.read_csv(\"iris.csv\")\n"
   ]
  },
  {
   "cell_type": "markdown",
   "metadata": {},
   "source": [
    "## Task 2a: Inserting Columns\n",
    "\n",
    "+ Create a copy of the `df` dataframe.\n",
    "+ Add a new column named \"delta\" to the copy that consists of random numbers."
   ]
  },
  {
   "cell_type": "code",
   "execution_count": 2,
   "metadata": {},
   "outputs": [
    {
     "data": {
      "text/html": [
       "<div>\n",
       "<style scoped>\n",
       "    .dataframe tbody tr th:only-of-type {\n",
       "        vertical-align: middle;\n",
       "    }\n",
       "\n",
       "    .dataframe tbody tr th {\n",
       "        vertical-align: top;\n",
       "    }\n",
       "\n",
       "    .dataframe thead th {\n",
       "        text-align: right;\n",
       "    }\n",
       "</style>\n",
       "<table border=\"1\" class=\"dataframe\">\n",
       "  <thead>\n",
       "    <tr style=\"text-align: right;\">\n",
       "      <th></th>\n",
       "      <th>alpha</th>\n",
       "      <th>beta</th>\n",
       "      <th>delta</th>\n",
       "    </tr>\n",
       "  </thead>\n",
       "  <tbody>\n",
       "    <tr>\n",
       "      <td>0</td>\n",
       "      <td>0</td>\n",
       "      <td>a</td>\n",
       "      <td>8</td>\n",
       "    </tr>\n",
       "    <tr>\n",
       "      <td>1</td>\n",
       "      <td>1</td>\n",
       "      <td>b</td>\n",
       "      <td>2</td>\n",
       "    </tr>\n",
       "    <tr>\n",
       "      <td>2</td>\n",
       "      <td>2</td>\n",
       "      <td>c</td>\n",
       "      <td>5</td>\n",
       "    </tr>\n",
       "    <tr>\n",
       "      <td>3</td>\n",
       "      <td>3</td>\n",
       "      <td>d</td>\n",
       "      <td>6</td>\n",
       "    </tr>\n",
       "    <tr>\n",
       "      <td>4</td>\n",
       "      <td>4</td>\n",
       "      <td>e</td>\n",
       "      <td>9</td>\n",
       "    </tr>\n",
       "  </tbody>\n",
       "</table>\n",
       "</div>"
      ],
      "text/plain": [
       "   alpha beta  delta\n",
       "0      0    a      8\n",
       "1      1    b      2\n",
       "2      2    c      5\n",
       "3      3    d      6\n",
       "4      4    e      9"
      ]
     },
     "execution_count": 2,
     "metadata": {},
     "output_type": "execute_result"
    }
   ],
   "source": [
    "df_2 = df\n",
    "df_2[\"delta\"] = np.random.randint(10, size = 5)\n",
    "df_2\n"
   ]
  },
  {
   "cell_type": "markdown",
   "metadata": {},
   "source": [
    "## Task 3a: Missing Data\n",
    "\n",
    "+ Create two new copies of the `df` dataframe:\n",
    "+ Add a new column to both that has missing values.\n",
    "+ In one copy, replace missing values with a value of your choice.\n",
    "+ In the other copy, drop rows with `NaN` values.\n",
    "+ Print both arrays to confirm."
   ]
  },
  {
   "cell_type": "code",
   "execution_count": 3,
   "metadata": {},
   "outputs": [
    {
     "name": "stdout",
     "output_type": "stream",
     "text": [
      "   alpha beta  delta new_col\n",
      "0      0    a      8       a\n",
      "1      1    b      2       b\n",
      "2      2    c      5       c\n",
      "3      3    d      6     NaN\n",
      "4      4    e      9     NaN\n",
      "   alpha beta  delta new_col\n",
      "0      0    a      8       a\n",
      "1      1    b      2       b\n",
      "2      2    c      5       c\n",
      "3      3    d      6    blah\n",
      "4      4    e      9    blah\n",
      "   alpha beta  delta new_col\n",
      "0      0    a      8       a\n",
      "1      1    b      2       b\n",
      "2      2    c      5       c\n"
     ]
    }
   ],
   "source": [
    "df_missing = df\n",
    "df_missing[\"new_col\"] = pd.Series([\"a\", \"b\", \"c\"])\n",
    "df_missing_2 = df_missing\n",
    "print(df_missing)\n",
    "\n",
    "df_missing = df_missing.fillna(\"blah\")\n",
    "print(df_missing)\n",
    "\n",
    "df_drop = df_missing_2.dropna()\n",
    "print(df_drop)"
   ]
  },
  {
   "cell_type": "markdown",
   "metadata": {},
   "source": [
    "## Task 4a: Operations\n",
    "<span style=\"float:right; margin-left:10px; clear:both;\">![Task](./media/task-icon.png)</span>\n",
    "\n",
    "View the [Computational tools](https://pandas.pydata.org/pandas-docs/stable/user_guide/computation.html) and [statistical methods](https://pandas.pydata.org/pandas-docs/stable/user_guide/computation.html#method-summary) documentation.\n",
    "Using the list of operational functions choose five functions to use with the iris data frame.\n",
    "\n"
   ]
  },
  {
   "cell_type": "code",
   "execution_count": 4,
   "metadata": {},
   "outputs": [
    {
     "name": "stdout",
     "output_type": "stream",
     "text": [
      "sepal_length                                                876.5\n",
      "sepal_width                                                 458.1\n",
      "petal_length                                                563.8\n",
      "petal_width                                                 179.8\n",
      "species         setosasetosasetosasetosasetosasetosasetosaseto...\n",
      "dtype: object\n",
      "sepal_length       4.3\n",
      "sepal_width          2\n",
      "petal_length         1\n",
      "petal_width        0.1\n",
      "species         setosa\n",
      "dtype: object\n",
      "sepal_length          7.9\n",
      "sepal_width           4.4\n",
      "petal_length          6.9\n",
      "petal_width           2.5\n",
      "species         virginica\n",
      "dtype: object\n",
      "0         NaN\n",
      "1   -0.039216\n",
      "2   -0.040816\n",
      "3   -0.021277\n",
      "4    0.086957\n",
      "Name: sepal_length, dtype: float64\n",
      "   sepal_length  sepal_width  petal_length  petal_width  species\n",
      "0          37.0        129.5          17.5         20.5     25.5\n",
      "1          19.5         70.5          17.5         20.5     25.5\n",
      "2          10.5        102.0           8.0         20.5     25.5\n",
      "3           7.5         89.5          30.5         20.5     25.5\n",
      "4          27.5        134.0          17.5         20.5     25.5\n"
     ]
    }
   ],
   "source": [
    "print(iris_df.sum().head())\n",
    "print(iris_df.min().head())\n",
    "print(iris_df.max().head())\n",
    "print(iris_df[\"sepal_length\"].pct_change().head())\n",
    "print(iris_df.rank().head())"
   ]
  },
  {
   "cell_type": "markdown",
   "metadata": {},
   "source": [
    "## Task 4b:  Apply\n",
    "\n",
    "Practice using `apply` on either the `df` or `iris_df` data frames using any two functions of your choice other than `print`, `type`, and `np.sum`."
   ]
  },
  {
   "cell_type": "code",
   "execution_count": 5,
   "metadata": {},
   "outputs": [
    {
     "name": "stdout",
     "output_type": "stream",
     "text": [
      "sepal_length       4.3\n",
      "sepal_width          2\n",
      "petal_length         1\n",
      "petal_width        0.1\n",
      "species         setosa\n",
      "dtype: object\n",
      "sepal_length          7.9\n",
      "sepal_width           4.4\n",
      "petal_length          6.9\n",
      "petal_width           2.5\n",
      "species         virginica\n",
      "dtype: object\n"
     ]
    }
   ],
   "source": [
    "print(iris_df.apply(np.min))\n",
    "print(iris_df.apply(np.max))"
   ]
  },
  {
   "cell_type": "markdown",
   "metadata": {},
   "source": [
    "## Task 4c.  Occurances\n",
    "Ientify the number of occurances for each species (virginica, versicolor, setosa) in the `iris_df` object.  *Hint*: the `value_counts` function only works on a `pd.Series` object, not on the full data frame.."
   ]
  },
  {
   "cell_type": "code",
   "execution_count": 6,
   "metadata": {},
   "outputs": [
    {
     "data": {
      "text/plain": [
       "setosa        50\n",
       "virginica     50\n",
       "versicolor    50\n",
       "Name: species, dtype: int64"
      ]
     },
     "execution_count": 6,
     "metadata": {},
     "output_type": "execute_result"
    }
   ],
   "source": [
    "iris_df[\"species\"].value_counts()"
   ]
  },
  {
   "cell_type": "markdown",
   "metadata": {},
   "source": [
    "## Task 5a: String Methods\n",
    "\n",
    "+ Create a list of five strings that represent dates in the form YYYY-MM-DD (e.g. 2020-02-20 for Feb 20th, 2020).\n",
    "+ Add this list of dates as a new column in the `df` dataframe.\n",
    "+ Now split the date into 3 new columns with one column representing the year, another the month and another they day.\n",
    "+ Combine the values from columns `alpha` and `beta` into a new column where the values are spearated with a colon.\n"
   ]
  },
  {
   "cell_type": "code",
   "execution_count": 7,
   "metadata": {},
   "outputs": [
    {
     "name": "stdout",
     "output_type": "stream",
     "text": [
      "   alpha beta  delta new_col       dates  year month day\n",
      "0      0    a      8       a  2020-03-01  2020    03  01\n",
      "1      1    b      2       b  2020-01-18  2020    01  18\n",
      "2      2    c      5       c  2020-05-01  2020    05  01\n",
      "3      3    d      6     NaN  2020-06-18  2020    06  18\n",
      "4      4    e      9     NaN  2020-04-12  2020    04  12\n"
     ]
    }
   ],
   "source": [
    "dates = [\"2020-03-01\", \"2020-01-18\", \"2020-05-01\", \"2020-06-18\", \"2020-04-12\"]\n",
    "\n",
    "df[\"dates\"] = dates\n",
    "df.head()\n",
    "\n",
    "df[\"year\"], df[\"month\"], df[\"day\"] = df[\"dates\"].str.split(\"-\").str\n",
    "print(df.head())"
   ]
  },
  {
   "cell_type": "markdown",
   "metadata": {},
   "source": [
    "## Task 6a: Concatenation by Rows\n",
    "+ Create the following dataframe\n",
    "```Python\n",
    "df1 = pd.DataFrame(\n",
    "    {'alpha': [0, 1, 2, 3, 4],\n",
    "     'beta': ['a', 'b', 'c', 'd', 'e']}, index = ['I1', 'I2' ,'I3', 'I4', 'I5'])\n",
    "```\n",
    "+ Create a new dataframe named `df2` with column names \"delta\" and \"gamma\" that contins 5 rows with some index names that overlap with the `df1` dataframe and some that do not.\n",
    "+ Concatenate the two dataframes by rows and print the result.\n",
    "+ You should see the two have combined one after the other, but there should also be missing values added. \n",
    "+ Explain why there are missing values.\n"
   ]
  },
  {
   "cell_type": "code",
   "execution_count": null,
   "metadata": {},
   "outputs": [],
   "source": []
  },
  {
   "cell_type": "code",
   "execution_count": 8,
   "metadata": {
    "scrolled": true
   },
   "outputs": [
    {
     "name": "stdout",
     "output_type": "stream",
     "text": [
      "    alpha beta\n",
      "I1      0    a\n",
      "I2      1    b\n",
      "I3      2    c\n",
      "I4      3    d\n",
      "I5      4    e\n",
      "    delta gamma\n",
      "I1      5     f\n",
      "I2      6     g\n",
      "I3      7     h\n",
      "I6      8     i\n",
      "I7      9     j\n",
      "    alpha beta  delta gamma\n",
      "I1    0.0    a    NaN   NaN\n",
      "I2    1.0    b    NaN   NaN\n",
      "I3    2.0    c    NaN   NaN\n",
      "I4    3.0    d    NaN   NaN\n",
      "I5    4.0    e    NaN   NaN\n",
      "I1    NaN  NaN    5.0     f\n",
      "I2    NaN  NaN    6.0     g\n",
      "I3    NaN  NaN    7.0     h\n",
      "I6    NaN  NaN    8.0     i\n",
      "I7    NaN  NaN    9.0     j\n"
     ]
    },
    {
     "name": "stderr",
     "output_type": "stream",
     "text": [
      "C:\\Users\\matthew.brousil\\AppData\\Local\\Continuum\\anaconda3\\lib\\site-packages\\ipykernel_launcher.py:15: FutureWarning: Sorting because non-concatenation axis is not aligned. A future version\n",
      "of pandas will change to not sort by default.\n",
      "\n",
      "To accept the future behavior, pass 'sort=False'.\n",
      "\n",
      "To retain the current behavior and silence the warning, pass 'sort=True'.\n",
      "\n",
      "  from ipykernel import kernelapp as app\n"
     ]
    }
   ],
   "source": [
    "df1 = pd.DataFrame(\n",
    "  {'alpha': [0, 1, 2, 3, 4],\n",
    "   'beta': ['a', 'b', 'c', 'd', 'e']}, index = ['I1', 'I2' ,'I3', 'I4', 'I5'])\n",
    "\n",
    "df2 = pd.DataFrame(\n",
    "    {'delta': [5, 6, 7, 8, 9],\n",
    "     'gamma': ['f', 'g', 'h', 'i', 'j']},\n",
    "    index = ['I1', 'I2' ,'I3', 'I6', 'I7'])\n",
    "\n",
    "print(df1)\n",
    "print(df2)\n",
    "\n",
    "dfs = [df1, df2]\n",
    "\n",
    "print(pd.concat(dfs))\n",
    "\n",
    "# There are missing values added because the\n",
    "# dataframes don't have matching data by row\n",
    "# index. NaNs exist where each dataframe does\n",
    "# not match up with the other."
   ]
  },
  {
   "cell_type": "markdown",
   "metadata": {},
   "source": [
    "## Task 6b: Concatenation by Columns\n",
    "\n",
    "Using the same dataframes, df1 and df2, from Task 6a practice:\n",
    "+ Concatenate the two by columns\n",
    "+ Add a \"delta\" column to `df1` and concatenate by columns such that there are 5 columns in the merged dataframe.\n",
    "+ Respond in writing to this question (add a new 'raw' cell to contain your answer). What will happen if using you had performed an inner join while concatenating?  \n",
    "+ Try the concatenation with the inner join to see if you are correct."
   ]
  },
  {
   "cell_type": "code",
   "execution_count": 9,
   "metadata": {},
   "outputs": [
    {
     "name": "stdout",
     "output_type": "stream",
     "text": [
      "    alpha beta  delta gamma\n",
      "I1    0.0    a    5.0     f\n",
      "I2    1.0    b    6.0     g\n",
      "I3    2.0    c    7.0     h\n",
      "I4    3.0    d    NaN   NaN\n",
      "I5    4.0    e    NaN   NaN\n",
      "I6    NaN  NaN    8.0     i\n",
      "I7    NaN  NaN    9.0     j\n",
      "    alpha beta  delta2  delta gamma\n",
      "I1    0.0    a    16.0    5.0     f\n",
      "I2    1.0    b    17.0    6.0     g\n",
      "I3    2.0    c    18.0    7.0     h\n",
      "I4    3.0    d    19.0    NaN   NaN\n",
      "I5    4.0    e    20.0    NaN   NaN\n",
      "I6    NaN  NaN     NaN    8.0     i\n",
      "I7    NaN  NaN     NaN    9.0     j\n"
     ]
    },
    {
     "name": "stderr",
     "output_type": "stream",
     "text": [
      "C:\\Users\\matthew.brousil\\AppData\\Local\\Continuum\\anaconda3\\lib\\site-packages\\ipykernel_launcher.py:1: FutureWarning: Sorting because non-concatenation axis is not aligned. A future version\n",
      "of pandas will change to not sort by default.\n",
      "\n",
      "To accept the future behavior, pass 'sort=False'.\n",
      "\n",
      "To retain the current behavior and silence the warning, pass 'sort=True'.\n",
      "\n",
      "  \"\"\"Entry point for launching an IPython kernel.\n",
      "C:\\Users\\matthew.brousil\\AppData\\Local\\Continuum\\anaconda3\\lib\\site-packages\\ipykernel_launcher.py:6: FutureWarning: Sorting because non-concatenation axis is not aligned. A future version\n",
      "of pandas will change to not sort by default.\n",
      "\n",
      "To accept the future behavior, pass 'sort=False'.\n",
      "\n",
      "To retain the current behavior and silence the warning, pass 'sort=True'.\n",
      "\n",
      "  \n"
     ]
    }
   ],
   "source": [
    "print(pd.concat(dfs, axis = 1))\n",
    "\n",
    "df1[\"delta2\"] = [16, 17, 18, 19, 20]\n",
    "dfs = [df1, df2]\n",
    "\n",
    "print(pd.concat(dfs, axis = 1))"
   ]
  },
  {
   "cell_type": "raw",
   "metadata": {},
   "source": [
    "I think using an inner join would have removed rows that didn't have all of the data."
   ]
  },
  {
   "cell_type": "code",
   "execution_count": 10,
   "metadata": {},
   "outputs": [
    {
     "name": "stdout",
     "output_type": "stream",
     "text": [
      "    alpha beta  delta2  delta gamma\n",
      "I1      0    a      16      5     f\n",
      "I2      1    b      17      6     g\n",
      "I3      2    c      18      7     h\n"
     ]
    }
   ],
   "source": [
    "print(pd.concat(dfs, axis = 1, join = \"inner\"))"
   ]
  },
  {
   "cell_type": "markdown",
   "metadata": {},
   "source": [
    "#### Task 6c: Concat and append data frames\n",
    "<span style=\"float:right; margin-left:10px; clear:both;\">![Task](./media/task-icon.png)</span>\n",
    "\n",
    "+ Create a new 5x5 dataframe full of random numbers.\n",
    "+ Create a new 5x10 dataframe full of 1's.\n",
    "+ Append one to the other and print it.\n",
    "+ Append a single Series of zeros to the end of the appended dataframe.\n"
   ]
  },
  {
   "cell_type": "code",
   "execution_count": 11,
   "metadata": {},
   "outputs": [
    {
     "data": {
      "text/html": [
       "<div>\n",
       "<style scoped>\n",
       "    .dataframe tbody tr th:only-of-type {\n",
       "        vertical-align: middle;\n",
       "    }\n",
       "\n",
       "    .dataframe tbody tr th {\n",
       "        vertical-align: top;\n",
       "    }\n",
       "\n",
       "    .dataframe thead th {\n",
       "        text-align: right;\n",
       "    }\n",
       "</style>\n",
       "<table border=\"1\" class=\"dataframe\">\n",
       "  <thead>\n",
       "    <tr style=\"text-align: right;\">\n",
       "      <th></th>\n",
       "      <th>0</th>\n",
       "      <th>1</th>\n",
       "      <th>2</th>\n",
       "      <th>3</th>\n",
       "      <th>4</th>\n",
       "      <th>5</th>\n",
       "      <th>6</th>\n",
       "      <th>7</th>\n",
       "      <th>8</th>\n",
       "      <th>9</th>\n",
       "    </tr>\n",
       "  </thead>\n",
       "  <tbody>\n",
       "    <tr>\n",
       "      <td>0</td>\n",
       "      <td>1.000000</td>\n",
       "      <td>1.000000</td>\n",
       "      <td>1.000000</td>\n",
       "      <td>1.000000</td>\n",
       "      <td>1.000000</td>\n",
       "      <td>1.0</td>\n",
       "      <td>1.0</td>\n",
       "      <td>1.0</td>\n",
       "      <td>1.0</td>\n",
       "      <td>1.0</td>\n",
       "    </tr>\n",
       "    <tr>\n",
       "      <td>1</td>\n",
       "      <td>1.000000</td>\n",
       "      <td>1.000000</td>\n",
       "      <td>1.000000</td>\n",
       "      <td>1.000000</td>\n",
       "      <td>1.000000</td>\n",
       "      <td>1.0</td>\n",
       "      <td>1.0</td>\n",
       "      <td>1.0</td>\n",
       "      <td>1.0</td>\n",
       "      <td>1.0</td>\n",
       "    </tr>\n",
       "    <tr>\n",
       "      <td>2</td>\n",
       "      <td>1.000000</td>\n",
       "      <td>1.000000</td>\n",
       "      <td>1.000000</td>\n",
       "      <td>1.000000</td>\n",
       "      <td>1.000000</td>\n",
       "      <td>1.0</td>\n",
       "      <td>1.0</td>\n",
       "      <td>1.0</td>\n",
       "      <td>1.0</td>\n",
       "      <td>1.0</td>\n",
       "    </tr>\n",
       "    <tr>\n",
       "      <td>3</td>\n",
       "      <td>1.000000</td>\n",
       "      <td>1.000000</td>\n",
       "      <td>1.000000</td>\n",
       "      <td>1.000000</td>\n",
       "      <td>1.000000</td>\n",
       "      <td>1.0</td>\n",
       "      <td>1.0</td>\n",
       "      <td>1.0</td>\n",
       "      <td>1.0</td>\n",
       "      <td>1.0</td>\n",
       "    </tr>\n",
       "    <tr>\n",
       "      <td>4</td>\n",
       "      <td>1.000000</td>\n",
       "      <td>1.000000</td>\n",
       "      <td>1.000000</td>\n",
       "      <td>1.000000</td>\n",
       "      <td>1.000000</td>\n",
       "      <td>1.0</td>\n",
       "      <td>1.0</td>\n",
       "      <td>1.0</td>\n",
       "      <td>1.0</td>\n",
       "      <td>1.0</td>\n",
       "    </tr>\n",
       "    <tr>\n",
       "      <td>5</td>\n",
       "      <td>0.477055</td>\n",
       "      <td>0.773703</td>\n",
       "      <td>0.200661</td>\n",
       "      <td>0.302953</td>\n",
       "      <td>0.496613</td>\n",
       "      <td>NaN</td>\n",
       "      <td>NaN</td>\n",
       "      <td>NaN</td>\n",
       "      <td>NaN</td>\n",
       "      <td>NaN</td>\n",
       "    </tr>\n",
       "    <tr>\n",
       "      <td>6</td>\n",
       "      <td>0.372264</td>\n",
       "      <td>0.751490</td>\n",
       "      <td>0.918442</td>\n",
       "      <td>0.420663</td>\n",
       "      <td>0.276033</td>\n",
       "      <td>NaN</td>\n",
       "      <td>NaN</td>\n",
       "      <td>NaN</td>\n",
       "      <td>NaN</td>\n",
       "      <td>NaN</td>\n",
       "    </tr>\n",
       "    <tr>\n",
       "      <td>7</td>\n",
       "      <td>0.950083</td>\n",
       "      <td>0.799160</td>\n",
       "      <td>0.217427</td>\n",
       "      <td>0.252490</td>\n",
       "      <td>0.050528</td>\n",
       "      <td>NaN</td>\n",
       "      <td>NaN</td>\n",
       "      <td>NaN</td>\n",
       "      <td>NaN</td>\n",
       "      <td>NaN</td>\n",
       "    </tr>\n",
       "    <tr>\n",
       "      <td>8</td>\n",
       "      <td>0.078828</td>\n",
       "      <td>0.854138</td>\n",
       "      <td>0.335178</td>\n",
       "      <td>0.232529</td>\n",
       "      <td>0.194296</td>\n",
       "      <td>NaN</td>\n",
       "      <td>NaN</td>\n",
       "      <td>NaN</td>\n",
       "      <td>NaN</td>\n",
       "      <td>NaN</td>\n",
       "    </tr>\n",
       "    <tr>\n",
       "      <td>9</td>\n",
       "      <td>0.125718</td>\n",
       "      <td>0.501485</td>\n",
       "      <td>0.169168</td>\n",
       "      <td>0.239151</td>\n",
       "      <td>0.008246</td>\n",
       "      <td>NaN</td>\n",
       "      <td>NaN</td>\n",
       "      <td>NaN</td>\n",
       "      <td>NaN</td>\n",
       "      <td>NaN</td>\n",
       "    </tr>\n",
       "    <tr>\n",
       "      <td>10</td>\n",
       "      <td>0.000000</td>\n",
       "      <td>0.000000</td>\n",
       "      <td>0.000000</td>\n",
       "      <td>0.000000</td>\n",
       "      <td>0.000000</td>\n",
       "      <td>0.0</td>\n",
       "      <td>0.0</td>\n",
       "      <td>0.0</td>\n",
       "      <td>0.0</td>\n",
       "      <td>0.0</td>\n",
       "    </tr>\n",
       "  </tbody>\n",
       "</table>\n",
       "</div>"
      ],
      "text/plain": [
       "           0         1         2         3         4    5    6    7    8    9\n",
       "0   1.000000  1.000000  1.000000  1.000000  1.000000  1.0  1.0  1.0  1.0  1.0\n",
       "1   1.000000  1.000000  1.000000  1.000000  1.000000  1.0  1.0  1.0  1.0  1.0\n",
       "2   1.000000  1.000000  1.000000  1.000000  1.000000  1.0  1.0  1.0  1.0  1.0\n",
       "3   1.000000  1.000000  1.000000  1.000000  1.000000  1.0  1.0  1.0  1.0  1.0\n",
       "4   1.000000  1.000000  1.000000  1.000000  1.000000  1.0  1.0  1.0  1.0  1.0\n",
       "5   0.477055  0.773703  0.200661  0.302953  0.496613  NaN  NaN  NaN  NaN  NaN\n",
       "6   0.372264  0.751490  0.918442  0.420663  0.276033  NaN  NaN  NaN  NaN  NaN\n",
       "7   0.950083  0.799160  0.217427  0.252490  0.050528  NaN  NaN  NaN  NaN  NaN\n",
       "8   0.078828  0.854138  0.335178  0.232529  0.194296  NaN  NaN  NaN  NaN  NaN\n",
       "9   0.125718  0.501485  0.169168  0.239151  0.008246  NaN  NaN  NaN  NaN  NaN\n",
       "10  0.000000  0.000000  0.000000  0.000000  0.000000  0.0  0.0  0.0  0.0  0.0"
      ]
     },
     "execution_count": 11,
     "metadata": {},
     "output_type": "execute_result"
    }
   ],
   "source": [
    "one_df = pd.DataFrame(np.random.random((5, 5)))\n",
    "another_df = pd.DataFrame(np.ones((5, 10)))\n",
    "\n",
    "comb_df = another_df.append(one_df, ignore_index = True)\n",
    "comb_df.shape\n",
    "\n",
    "comb_df.append(pd.Series(np.zeros(10)), ignore_index = True)"
   ]
  },
  {
   "cell_type": "markdown",
   "metadata": {},
   "source": [
    "## Task 6d: Grouping\n",
    "\n",
    "Demonstrate a `groupby`.\n",
    "\n",
    "+ Create a new column with the label \"region\" in the iris data frame. This column will indicates geographic regions of the US where measurments were taken. Values should include:  'Southeast', 'Northeast', 'Midwest', 'Southwest', 'Northwest'. Use these randomly.\n",
    "+ Use `groupby` to get a new data frame of means for each species in each region.\n",
    "+ Add a `dev_stage` column by randomly selecting from the values \"early\" and \"late\".\n",
    "+ Use `groupby` to get a new data frame of means for each species,in each region and each development stage.\n",
    "+ Use the `count` function (just like you used the `mean` function) to identify how many rows in the table belong to each combination of species + region + developmental stage."
   ]
  },
  {
   "cell_type": "code",
   "execution_count": 12,
   "metadata": {},
   "outputs": [
    {
     "name": "stdout",
     "output_type": "stream",
     "text": [
      "                      sepal_length  sepal_width  petal_length  petal_width\n",
      "species    region                                                         \n",
      "setosa     Midwest        4.981818     3.472727      1.509091     0.218182\n",
      "           Northeast      5.166667     3.466667      1.500000     0.333333\n",
      "           Northwest      4.925000     3.300000      1.575000     0.225000\n",
      "           Southeast      4.854545     3.263636      1.363636     0.218182\n",
      "           Southwest      5.077778     3.488889      1.461111     0.250000\n",
      "versicolor Midwest        5.960000     2.826667      4.306667     1.386667\n",
      "           Northeast      5.745455     2.627273      4.163636     1.300000\n",
      "           Northwest      6.130769     2.892308      4.446154     1.353846\n",
      "           Southeast      5.600000     2.614286      3.871429     1.142857\n",
      "           Southwest      6.325000     2.825000      4.425000     1.400000\n",
      "virginica  Midwest        6.944444     2.988889      6.033333     2.077778\n",
      "           Northeast      6.675000     3.150000      5.641667     1.991667\n",
      "           Northwest      6.487500     2.912500      5.225000     1.937500\n",
      "           Southeast      6.509091     2.809091      5.500000     1.972727\n",
      "           Southwest      6.330000     2.980000      5.330000     2.150000\n",
      "                                sepal_length  sepal_width  petal_length  \\\n",
      "species    region    dev_stage                                            \n",
      "setosa     Midwest   early          4.933333     3.466667      1.566667   \n",
      "                     late           5.040000     3.480000      1.440000   \n",
      "           Northeast early          5.133333     3.433333      1.500000   \n",
      "                     late           5.200000     3.500000      1.500000   \n",
      "           Northwest early          5.100000     3.500000      1.650000   \n",
      "                     late           4.750000     3.100000      1.500000   \n",
      "           Southeast early          4.857143     3.171429      1.428571   \n",
      "                     late           4.850000     3.425000      1.250000   \n",
      "           Southwest early          4.987500     3.537500      1.462500   \n",
      "                     late           5.150000     3.450000      1.460000   \n",
      "versicolor Midwest   early          5.942857     2.857143      4.514286   \n",
      "                     late           5.975000     2.800000      4.125000   \n",
      "           Northeast early          5.520000     2.460000      3.900000   \n",
      "                     late           5.933333     2.766667      4.383333   \n",
      "           Northwest early          6.057143     2.885714      4.414286   \n",
      "                     late           6.216667     2.900000      4.483333   \n",
      "           Southeast early          5.425000     2.500000      3.850000   \n",
      "                     late           5.833333     2.766667      3.900000   \n",
      "           Southwest early          6.150000     2.550000      4.400000   \n",
      "                     late           6.500000     3.100000      4.450000   \n",
      "virginica  Midwest   early          6.928571     3.000000      5.914286   \n",
      "                     late           7.000000     2.950000      6.450000   \n",
      "           Northeast early          6.400000     3.000000      5.442857   \n",
      "                     late           7.060000     3.360000      5.920000   \n",
      "           Northwest early          6.500000     2.950000      5.300000   \n",
      "                     late           6.475000     2.875000      5.150000   \n",
      "           Southeast early          6.414286     2.785714      5.485714   \n",
      "                     late           6.675000     2.850000      5.525000   \n",
      "           Southwest early          6.116667     2.850000      5.283333   \n",
      "                     late           6.650000     3.175000      5.400000   \n",
      "\n",
      "                                petal_width  \n",
      "species    region    dev_stage               \n",
      "setosa     Midwest   early         0.166667  \n",
      "                     late          0.280000  \n",
      "           Northeast early         0.333333  \n",
      "                     late          0.333333  \n",
      "           Northwest early         0.300000  \n",
      "                     late          0.150000  \n",
      "           Southeast early         0.228571  \n",
      "                     late          0.200000  \n",
      "           Southwest early         0.287500  \n",
      "                     late          0.220000  \n",
      "versicolor Midwest   early         1.428571  \n",
      "                     late          1.350000  \n",
      "           Northeast early         1.240000  \n",
      "                     late          1.350000  \n",
      "           Northwest early         1.314286  \n",
      "                     late          1.400000  \n",
      "           Southeast early         1.100000  \n",
      "                     late          1.200000  \n",
      "           Southwest early         1.350000  \n",
      "                     late          1.450000  \n",
      "virginica  Midwest   early         1.985714  \n",
      "                     late          2.400000  \n",
      "           Northeast early         1.928571  \n",
      "                     late          2.080000  \n",
      "           Northwest early         1.850000  \n",
      "                     late          2.025000  \n",
      "           Southeast early         2.000000  \n",
      "                     late          1.925000  \n",
      "           Southwest early         2.083333  \n",
      "                     late          2.250000  \n",
      "                                sepal_length  sepal_width  petal_length  \\\n",
      "species    region    dev_stage                                            \n",
      "setosa     Midwest   early                 6            6             6   \n",
      "                     late                  5            5             5   \n",
      "           Northeast early                 3            3             3   \n",
      "                     late                  3            3             3   \n",
      "           Northwest early                 2            2             2   \n",
      "                     late                  2            2             2   \n",
      "           Southeast early                 7            7             7   \n",
      "                     late                  4            4             4   \n",
      "           Southwest early                 8            8             8   \n",
      "                     late                 10           10            10   \n",
      "versicolor Midwest   early                 7            7             7   \n",
      "                     late                  8            8             8   \n",
      "           Northeast early                 5            5             5   \n",
      "                     late                  6            6             6   \n",
      "           Northwest early                 7            7             7   \n",
      "                     late                  6            6             6   \n",
      "           Southeast early                 4            4             4   \n",
      "                     late                  3            3             3   \n",
      "           Southwest early                 2            2             2   \n",
      "                     late                  2            2             2   \n",
      "virginica  Midwest   early                 7            7             7   \n",
      "                     late                  2            2             2   \n",
      "           Northeast early                 7            7             7   \n",
      "                     late                  5            5             5   \n",
      "           Northwest early                 4            4             4   \n",
      "                     late                  4            4             4   \n",
      "           Southeast early                 7            7             7   \n",
      "                     late                  4            4             4   \n",
      "           Southwest early                 6            6             6   \n",
      "                     late                  4            4             4   \n",
      "\n",
      "                                petal_width  \n",
      "species    region    dev_stage               \n",
      "setosa     Midwest   early                6  \n",
      "                     late                 5  \n",
      "           Northeast early                3  \n",
      "                     late                 3  \n",
      "           Northwest early                2  \n",
      "                     late                 2  \n",
      "           Southeast early                7  \n",
      "                     late                 4  \n",
      "           Southwest early                8  \n",
      "                     late                10  \n",
      "versicolor Midwest   early                7  \n",
      "                     late                 8  \n",
      "           Northeast early                5  \n",
      "                     late                 6  \n",
      "           Northwest early                7  \n",
      "                     late                 6  \n",
      "           Southeast early                4  \n",
      "                     late                 3  \n",
      "           Southwest early                2  \n",
      "                     late                 2  \n",
      "virginica  Midwest   early                7  \n",
      "                     late                 2  \n",
      "           Northeast early                7  \n",
      "                     late                 5  \n",
      "           Northwest early                4  \n",
      "                     late                 4  \n",
      "           Southeast early                7  \n",
      "                     late                 4  \n",
      "           Southwest early                6  \n",
      "                     late                 4  \n"
     ]
    }
   ],
   "source": [
    "iris_df[\"region\"] = np.random.choice(['Southeast', 'Northeast', 'Midwest', 'Southwest', 'Northwest'], iris_df.shape[0])\n",
    "iris_df.head()\n",
    "\n",
    "print(iris_df.groupby([\"species\", \"region\"]).mean()) \n",
    "\n",
    "iris_df[\"dev_stage\"] = np.random.choice([\"early\", \"late\"], iris_df.shape[0])\n",
    "iris_df.head()\n",
    "print(iris_df.groupby([\"species\", \"region\", \"dev_stage\"]).mean()) \n",
    "print(iris_df.groupby([\"species\", \"region\", \"dev_stage\"]).count()) \n"
   ]
  }
 ],
 "metadata": {
  "kernelspec": {
   "display_name": "Python 3",
   "language": "python",
   "name": "python3"
  },
  "language_info": {
   "codemirror_mode": {
    "name": "ipython",
    "version": 3
   },
   "file_extension": ".py",
   "mimetype": "text/x-python",
   "name": "python",
   "nbconvert_exporter": "python",
   "pygments_lexer": "ipython3",
   "version": "3.7.4"
  }
 },
 "nbformat": 4,
 "nbformat_minor": 4
}
